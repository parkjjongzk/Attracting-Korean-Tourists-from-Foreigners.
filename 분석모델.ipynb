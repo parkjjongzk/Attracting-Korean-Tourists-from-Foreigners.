{
 "cells": [
  {
   "cell_type": "code",
   "execution_count": 103,
   "metadata": {},
   "outputs": [],
   "source": [
    "import numpy as np\n",
    "import pandas as pd\n",
    "from sklearn import metrics\n",
    "from sklearn import model_selection\n",
    "from sklearn.model_selection import train_test_split\n",
    "from sklearn.metrics import precision_score\n",
    "from sklearn.metrics import recall_score\n",
    "from xgboost.sklearn import XGBClassifier\n",
    "import matplotlib.pyplot as plt\n",
    "from sklearn.metrics import accuracy_score\n",
    "from sklearn.metrics import precision_score\n",
    "from sklearn.metrics import recall_score\n",
    "from sklearn.metrics import f1_score\n",
    "from sklearn.metrics import roc_auc_score\n",
    "import xgboost as xgb"
   ]
  },
  {
   "cell_type": "code",
   "execution_count": 88,
   "metadata": {},
   "outputs": [],
   "source": [
    "df = pd.read_excel(\"C:/Users/pc/Desktop/20181_all.xlsx\")"
   ]
  },
  {
   "cell_type": "code",
   "execution_count": 89,
   "metadata": {},
   "outputs": [
    {
     "data": {
      "text/plain": [
       "1    15512\n",
       "0     6968\n",
       "Name: 재방문의사, dtype: int64"
      ]
     },
     "execution_count": 89,
     "metadata": {},
     "output_type": "execute_result"
    }
   ],
   "source": [
    "df['재방문의사'].value_counts()"
   ]
  },
  {
   "cell_type": "code",
   "execution_count": 90,
   "metadata": {},
   "outputs": [],
   "source": [
    "x_data=df.loc[:,'방한횟수':'D_COU_홍콩']\n",
    "y_data=df['재방문의사']\n",
    "x_train, x_test, y_train, y_test =train_test_split(x_data, y_data,test_size=0.25, random_state=0)"
   ]
  },
  {
   "cell_type": "code",
   "execution_count": 91,
   "metadata": {},
   "outputs": [
    {
     "name": "stdout",
     "output_type": "stream",
     "text": [
      "xtrain shape\n",
      "(16860, 140)\n",
      "xtest shape\n",
      "(5620, 140)\n"
     ]
    }
   ],
   "source": [
    "print('xtrain shape')\n",
    "print(x_train.shape)\n",
    "print('xtest shape')\n",
    "print(x_test.shape)"
   ]
  },
  {
   "cell_type": "code",
   "execution_count": 93,
   "metadata": {},
   "outputs": [
    {
     "name": "stdout",
     "output_type": "stream",
     "text": [
      "{'base_score': 0.5, 'booster': 'gbtree', 'colsample_bylevel': 1, 'colsample_bynode': 1, 'colsample_bytree': 1, 'gamma': 0, 'learning_rate': 0.1, 'max_delta_step': 0, 'max_depth': 3, 'min_child_weight': 1, 'missing': None, 'n_estimators': 100, 'nthread': 1, 'objective': 'binary:logistic', 'reg_alpha': 0, 'reg_lambda': 1, 'scale_pos_weight': 1, 'seed': 0, 'subsample': 1, 'verbosity': 1}\n"
     ]
    }
   ],
   "source": [
    "xgb_model = XGBClassifier()\n",
    "print(xgb_model.get_xgb_params())"
   ]
  },
  {
   "cell_type": "code",
   "execution_count": 94,
   "metadata": {},
   "outputs": [
    {
     "name": "stdout",
     "output_type": "stream",
     "text": [
      "[0]\tvalidation_0-error:0.247568\tvalidation_1-error:0.25427\n",
      "[1]\tvalidation_0-error:0.247568\tvalidation_1-error:0.25427\n",
      "[2]\tvalidation_0-error:0.240866\tvalidation_1-error:0.249288\n",
      "[3]\tvalidation_0-error:0.242408\tvalidation_1-error:0.249822\n",
      "[4]\tvalidation_0-error:0.239324\tvalidation_1-error:0.247865\n",
      "[5]\tvalidation_0-error:0.240332\tvalidation_1-error:0.248577\n",
      "[6]\tvalidation_0-error:0.240807\tvalidation_1-error:0.249822\n",
      "[7]\tvalidation_0-error:0.241815\tvalidation_1-error:0.250712\n",
      "[8]\tvalidation_0-error:0.241637\tvalidation_1-error:0.250712\n",
      "[9]\tvalidation_0-error:0.241163\tvalidation_1-error:0.250178\n",
      "[10]\tvalidation_0-error:0.241163\tvalidation_1-error:0.250178\n",
      "[11]\tvalidation_0-error:0.240391\tvalidation_1-error:0.249644\n",
      "[12]\tvalidation_0-error:0.240273\tvalidation_1-error:0.249644\n",
      "[13]\tvalidation_0-error:0.239917\tvalidation_1-error:0.249466\n",
      "[14]\tvalidation_0-error:0.24051\tvalidation_1-error:0.250712\n",
      "[15]\tvalidation_0-error:0.237367\tvalidation_1-error:0.247687\n",
      "[16]\tvalidation_0-error:0.238731\tvalidation_1-error:0.249644\n",
      "[17]\tvalidation_0-error:0.235647\tvalidation_1-error:0.246441\n",
      "[18]\tvalidation_0-error:0.23796\tvalidation_1-error:0.24911\n",
      "[19]\tvalidation_0-error:0.235231\tvalidation_1-error:0.246441\n",
      "[20]\tvalidation_0-error:0.234164\tvalidation_1-error:0.245907\n",
      "[21]\tvalidation_0-error:0.233333\tvalidation_1-error:0.245374\n",
      "[22]\tvalidation_0-error:0.233808\tvalidation_1-error:0.247153\n",
      "[23]\tvalidation_0-error:0.234638\tvalidation_1-error:0.247331\n",
      "[24]\tvalidation_0-error:0.229063\tvalidation_1-error:0.240747\n",
      "[25]\tvalidation_0-error:0.229241\tvalidation_1-error:0.240214\n",
      "[26]\tvalidation_0-error:0.23013\tvalidation_1-error:0.240925\n",
      "[27]\tvalidation_0-error:0.227165\tvalidation_1-error:0.238612\n",
      "[28]\tvalidation_0-error:0.227165\tvalidation_1-error:0.238256\n",
      "[29]\tvalidation_0-error:0.226453\tvalidation_1-error:0.237189\n",
      "[30]\tvalidation_0-error:0.227402\tvalidation_1-error:0.239502\n",
      "[31]\tvalidation_0-error:0.225682\tvalidation_1-error:0.236833\n",
      "[32]\tvalidation_0-error:0.225148\tvalidation_1-error:0.235943\n",
      "[33]\tvalidation_0-error:0.224199\tvalidation_1-error:0.234698\n",
      "[34]\tvalidation_0-error:0.221886\tvalidation_1-error:0.232918\n",
      "[35]\tvalidation_0-error:0.218149\tvalidation_1-error:0.228826\n",
      "[36]\tvalidation_0-error:0.216845\tvalidation_1-error:0.22669\n",
      "[37]\tvalidation_0-error:0.215006\tvalidation_1-error:0.224911\n",
      "[38]\tvalidation_0-error:0.213701\tvalidation_1-error:0.223843\n",
      "[39]\tvalidation_0-error:0.213049\tvalidation_1-error:0.222242\n",
      "[40]\tvalidation_0-error:0.212456\tvalidation_1-error:0.22153\n",
      "[41]\tvalidation_0-error:0.207711\tvalidation_1-error:0.218505\n",
      "[42]\tvalidation_0-error:0.203203\tvalidation_1-error:0.214413\n",
      "[43]\tvalidation_0-error:0.203737\tvalidation_1-error:0.213345\n",
      "[44]\tvalidation_0-error:0.202669\tvalidation_1-error:0.212278\n",
      "[45]\tvalidation_0-error:0.202372\tvalidation_1-error:0.212811\n",
      "[46]\tvalidation_0-error:0.19911\tvalidation_1-error:0.209431\n",
      "[47]\tvalidation_0-error:0.19911\tvalidation_1-error:0.209609\n",
      "[48]\tvalidation_0-error:0.197568\tvalidation_1-error:0.208719\n",
      "[49]\tvalidation_0-error:0.196975\tvalidation_1-error:0.209786\n",
      "[50]\tvalidation_0-error:0.197805\tvalidation_1-error:0.210676\n",
      "[51]\tvalidation_0-error:0.196441\tvalidation_1-error:0.210854\n",
      "[52]\tvalidation_0-error:0.195552\tvalidation_1-error:0.210142\n",
      "[53]\tvalidation_0-error:0.195552\tvalidation_1-error:0.209786\n",
      "[54]\tvalidation_0-error:0.195077\tvalidation_1-error:0.209431\n",
      "[55]\tvalidation_0-error:0.195967\tvalidation_1-error:0.21032\n",
      "[56]\tvalidation_0-error:0.193832\tvalidation_1-error:0.208007\n",
      "[57]\tvalidation_0-error:0.193238\tvalidation_1-error:0.207651\n",
      "[58]\tvalidation_0-error:0.193416\tvalidation_1-error:0.207473\n",
      "[59]\tvalidation_0-error:0.19134\tvalidation_1-error:0.203559\n",
      "[60]\tvalidation_0-error:0.189798\tvalidation_1-error:0.201957\n",
      "[61]\tvalidation_0-error:0.187189\tvalidation_1-error:0.199822\n",
      "[62]\tvalidation_0-error:0.187307\tvalidation_1-error:0.199822\n",
      "[63]\tvalidation_0-error:0.184757\tvalidation_1-error:0.198043\n",
      "[64]\tvalidation_0-error:0.184757\tvalidation_1-error:0.198043\n",
      "[65]\tvalidation_0-error:0.184935\tvalidation_1-error:0.199288\n",
      "[66]\tvalidation_0-error:0.184875\tvalidation_1-error:0.19911\n",
      "[67]\tvalidation_0-error:0.184223\tvalidation_1-error:0.197509\n",
      "[68]\tvalidation_0-error:0.183926\tvalidation_1-error:0.197153\n",
      "[69]\tvalidation_0-error:0.182147\tvalidation_1-error:0.195907\n",
      "[70]\tvalidation_0-error:0.182562\tvalidation_1-error:0.196619\n",
      "[71]\tvalidation_0-error:0.180842\tvalidation_1-error:0.193772\n",
      "[72]\tvalidation_0-error:0.178648\tvalidation_1-error:0.191993\n",
      "[73]\tvalidation_0-error:0.178292\tvalidation_1-error:0.191459\n",
      "[74]\tvalidation_0-error:0.178292\tvalidation_1-error:0.191459\n",
      "[75]\tvalidation_0-error:0.177639\tvalidation_1-error:0.190214\n",
      "[76]\tvalidation_0-error:0.176572\tvalidation_1-error:0.189858\n",
      "[77]\tvalidation_0-error:0.177224\tvalidation_1-error:0.190925\n",
      "[78]\tvalidation_0-error:0.177461\tvalidation_1-error:0.191459\n",
      "[79]\tvalidation_0-error:0.177995\tvalidation_1-error:0.191637\n",
      "[80]\tvalidation_0-error:0.176453\tvalidation_1-error:0.189502\n",
      "[81]\tvalidation_0-error:0.176157\tvalidation_1-error:0.18968\n",
      "[82]\tvalidation_0-error:0.175386\tvalidation_1-error:0.188078\n",
      "[83]\tvalidation_0-error:0.175386\tvalidation_1-error:0.188078\n",
      "[84]\tvalidation_0-error:0.173665\tvalidation_1-error:0.185587\n",
      "[85]\tvalidation_0-error:0.174792\tvalidation_1-error:0.186121\n",
      "[86]\tvalidation_0-error:0.173903\tvalidation_1-error:0.185587\n",
      "[87]\tvalidation_0-error:0.173428\tvalidation_1-error:0.18452\n",
      "[88]\tvalidation_0-error:0.172539\tvalidation_1-error:0.183808\n",
      "[89]\tvalidation_0-error:0.172005\tvalidation_1-error:0.182206\n",
      "[90]\tvalidation_0-error:0.171056\tvalidation_1-error:0.181495\n",
      "[91]\tvalidation_0-error:0.169336\tvalidation_1-error:0.180071\n",
      "[92]\tvalidation_0-error:0.168565\tvalidation_1-error:0.179004\n",
      "[93]\tvalidation_0-error:0.168446\tvalidation_1-error:0.179359\n",
      "[94]\tvalidation_0-error:0.168446\tvalidation_1-error:0.179715\n",
      "[95]\tvalidation_0-error:0.166014\tvalidation_1-error:0.177046\n",
      "[96]\tvalidation_0-error:0.165184\tvalidation_1-error:0.176335\n",
      "[97]\tvalidation_0-error:0.165006\tvalidation_1-error:0.176512\n",
      "[98]\tvalidation_0-error:0.164235\tvalidation_1-error:0.175445\n",
      "[99]\tvalidation_0-error:0.164413\tvalidation_1-error:0.175623\n"
     ]
    },
    {
     "data": {
      "text/plain": [
       "XGBClassifier(base_score=0.5, booster='gbtree', colsample_bylevel=1,\n",
       "              colsample_bynode=1, colsample_bytree=1, gamma=0,\n",
       "              learning_rate=0.1, max_delta_step=0, max_depth=3,\n",
       "              min_child_weight=1, missing=None, n_estimators=100, n_jobs=1,\n",
       "              nthread=None, objective='binary:logistic', random_state=0,\n",
       "              reg_alpha=0, reg_lambda=1, scale_pos_weight=1, seed=None,\n",
       "              silent=None, subsample=1, verbosity=1)"
      ]
     },
     "execution_count": 94,
     "metadata": {},
     "output_type": "execute_result"
    }
   ],
   "source": [
    "xgb_model.fit(x_train, y_train, eval_metric=['error'], eval_set=[((x_train, y_train)),(x_test, y_test)])"
   ]
  },
  {
   "cell_type": "code",
   "execution_count": 95,
   "metadata": {},
   "outputs": [
    {
     "name": "stdout",
     "output_type": "stream",
     "text": [
      "confusion matrix\n",
      "[[1000  762]\n",
      " [ 225 3633]]\n",
      "classification report\n",
      "              precision    recall  f1-score   support\n",
      "\n",
      "           0       0.82      0.57      0.67      1762\n",
      "           1       0.83      0.94      0.88      3858\n",
      "\n",
      "    accuracy                           0.82      5620\n",
      "   macro avg       0.82      0.75      0.77      5620\n",
      "weighted avg       0.82      0.82      0.81      5620\n",
      "\n"
     ]
    }
   ],
   "source": [
    "import warnings\n",
    "warnings.filterwarnings(\"ignore\")\n",
    "\n",
    "y_pred = xgb_model.predict(x_test)\n",
    "print('confusion matrix')\n",
    "print(metrics.confusion_matrix(y_test, y_pred))\n",
    "print('classification report')\n",
    "print(metrics.classification_report(y_test, y_pred))"
   ]
  },
  {
   "cell_type": "code",
   "execution_count": 96,
   "metadata": {},
   "outputs": [],
   "source": [
    "from sklearn.ensemble import RandomForestClassifier\n",
    "from sklearn.tree import DecisionTreeClassifier"
   ]
  },
  {
   "cell_type": "code",
   "execution_count": 63,
   "metadata": {},
   "outputs": [],
   "source": [
    "rf = RandomForestClassifier(n_estimators=100, oob_score=True, random_state=0)"
   ]
  },
  {
   "cell_type": "code",
   "execution_count": 97,
   "metadata": {},
   "outputs": [
    {
     "name": "stdout",
     "output_type": "stream",
     "text": [
      "1.0\n",
      "0.9676156583629894\n"
     ]
    }
   ],
   "source": [
    "tree=DecisionTreeClassifier()\n",
    "tree.fit(x_train,y_train)\n",
    "print(tree.score(x_train,y_train))\n",
    "print(tree.score(x_test,y_test))"
   ]
  },
  {
   "cell_type": "code",
   "execution_count": 98,
   "metadata": {},
   "outputs": [
    {
     "name": "stdout",
     "output_type": "stream",
     "text": [
      "confusion matrix\n",
      "[[1736   26]\n",
      " [ 156 3702]]\n",
      "classification report\n",
      "              precision    recall  f1-score   support\n",
      "\n",
      "           0       0.92      0.99      0.95      1762\n",
      "           1       0.99      0.96      0.98      3858\n",
      "\n",
      "    accuracy                           0.97      5620\n",
      "   macro avg       0.96      0.97      0.96      5620\n",
      "weighted avg       0.97      0.97      0.97      5620\n",
      "\n"
     ]
    }
   ],
   "source": [
    "y_pred = tree.predict(x_test)\n",
    "print('confusion matrix')\n",
    "print(metrics.confusion_matrix(y_test, y_pred))\n",
    "print('classification report')\n",
    "print(metrics.classification_report(y_test, y_pred))"
   ]
  },
  {
   "cell_type": "code",
   "execution_count": 99,
   "metadata": {},
   "outputs": [],
   "source": [
    "a=tree.feature_importances_"
   ]
  },
  {
   "cell_type": "code",
   "execution_count": 100,
   "metadata": {},
   "outputs": [
    {
     "data": {
      "text/plain": [
       "array([8.52503410e-03, 3.25359784e-04, 7.98053136e-04, 4.87763053e-04,\n",
       "       0.00000000e+00, 2.37491623e-02, 3.56503620e-03, 1.32803587e-03,\n",
       "       2.19865048e-03, 7.24622960e-03, 5.99682620e-03, 2.87712303e-03,\n",
       "       5.89339207e-03, 1.19037234e-03, 1.86573069e-02, 6.70431299e-03,\n",
       "       2.71080556e-03, 2.03300005e-02, 3.99509630e-03, 7.74930086e-03,\n",
       "       2.22117882e-03, 4.32278782e-04, 1.11157401e-03, 2.77604928e-03,\n",
       "       7.62227436e-04, 9.09341148e-03, 2.05226759e-03, 8.24381298e-04,\n",
       "       2.55703820e-05, 3.93600001e-03, 2.56859212e-04, 0.00000000e+00,\n",
       "       2.33834308e-03, 8.13004516e-03, 0.00000000e+00, 2.63562953e-04,\n",
       "       0.00000000e+00, 2.77893503e-04, 0.00000000e+00, 0.00000000e+00,\n",
       "       7.53144046e-04, 0.00000000e+00, 5.06596441e-02, 1.06426402e-02,\n",
       "       1.90979934e-03, 2.19231223e-03, 2.70122787e-04, 2.49542040e-03,\n",
       "       2.55089826e-03, 2.56658018e-03, 0.00000000e+00, 0.00000000e+00,\n",
       "       3.29469053e-04, 0.00000000e+00, 5.27084368e-02, 3.10768550e-02,\n",
       "       4.43184250e-02, 2.69414756e-03, 2.85839262e-02, 4.44123115e-02,\n",
       "       4.78723262e-02, 4.09713902e-02, 7.72133034e-03, 1.70303339e-02,\n",
       "       1.21502979e-02, 7.72856288e-03, 4.78374738e-02, 4.84046204e-02,\n",
       "       3.10800730e-03, 9.33832147e-04, 5.07696371e-03, 3.95406691e-03,\n",
       "       2.72840894e-04, 1.73277391e-03, 8.21936029e-03, 2.10354635e-03,\n",
       "       4.66367581e-03, 3.76705576e-03, 5.64172259e-03, 3.93592442e-03,\n",
       "       4.46196249e-03, 4.15801861e-03, 4.91634133e-03, 6.65544593e-03,\n",
       "       1.89149481e-03, 1.67485760e-03, 8.59786824e-04, 2.67768506e-04,\n",
       "       1.24655681e-03, 8.20444743e-03, 1.56032691e-03, 1.25863399e-02,\n",
       "       1.03316506e-03, 3.70524670e-04, 1.35894835e-03, 2.45885919e-04,\n",
       "       0.00000000e+00, 0.00000000e+00, 0.00000000e+00, 1.51372884e-05,\n",
       "       2.37130883e-03, 0.00000000e+00, 4.25884239e-02, 5.21301024e-03,\n",
       "       7.00176371e-04, 2.88279571e-03, 1.37553984e-03, 3.18240215e-03,\n",
       "       3.48421713e-03, 1.19201869e-02, 2.74086742e-04, 0.00000000e+00,\n",
       "       2.86846713e-03, 1.12869944e-02, 1.26285010e-03, 0.00000000e+00,\n",
       "       1.87608730e-03, 5.01571750e-03, 3.41957586e-03, 7.34319939e-04,\n",
       "       4.43695082e-03, 5.86878780e-03, 2.01526307e-03, 3.91487175e-04,\n",
       "       2.15719322e-03, 5.45024623e-03, 2.06384982e-03, 1.36654139e-03,\n",
       "       9.85056282e-04, 1.05480101e-03, 2.47661368e-03, 8.26980330e-02,\n",
       "       7.37974581e-04, 4.24218922e-05, 6.54020872e-03, 5.94053659e-03,\n",
       "       1.34920185e-03, 6.23743479e-03, 1.18526122e-03, 4.91922588e-03])"
      ]
     },
     "execution_count": 100,
     "metadata": {},
     "output_type": "execute_result"
    }
   ],
   "source": [
    "a"
   ]
  },
  {
   "cell_type": "code",
   "execution_count": 106,
   "metadata": {},
   "outputs": [],
   "source": [
    "b=pd.DataFrame(a)"
   ]
  },
  {
   "cell_type": "code",
   "execution_count": 111,
   "metadata": {},
   "outputs": [],
   "source": [
    "b.to_excel(\"C:/Users/pc/Desktop/ㅅㅅ.xlsx\")"
   ]
  },
  {
   "cell_type": "code",
   "execution_count": 104,
   "metadata": {},
   "outputs": [
    {
     "name": "stdout",
     "output_type": "stream",
     "text": [
      "0.7827402135231317\n",
      "0.7713523131672598\n",
      "0.8106737503018595\n",
      "0.8701399688958009\n"
     ]
    }
   ],
   "source": [
    "estimator = DecisionTreeClassifier(criterion='entropy', max_depth=5, max_leaf_nodes=None, min_samples_split=2, min_samples_leaf=1, max_features=None)\n",
    "\n",
    "estimator.fit(x_train, y_train)\n",
    "\n",
    "y_predict = estimator.predict(x_train) \n",
    "score = accuracy_score(y_train, y_predict)\n",
    "print(score) #1.0\n",
    "\n",
    "y_predict = estimator.predict(x_test) \n",
    "score = accuracy_score(y_test, y_predict)\n",
    "print(score)\n",
    "score = precision_score(y_test, y_predict)\n",
    "print(score)\n",
    "score = recall_score(y_test, y_predict)\n",
    "print(score)"
   ]
  },
  {
   "cell_type": "code",
   "execution_count": 105,
   "metadata": {},
   "outputs": [
    {
     "data": {
      "text/plain": [
       "True"
      ]
     },
     "execution_count": 105,
     "metadata": {},
     "output_type": "execute_result"
    }
   ],
   "source": [
    "import os\n",
    "os.environ[\"PATH\"] += os.pathsep + 'C:/Program Files (x86)/Graphviz2.38/bin'\n",
    "from sklearn.tree import export_graphviz\n",
    "export_graphviz(estimator, out_file=\"./tree.dot\", class_names=[\"0\", \"1\"])\n",
    "\n",
    "import graphviz\n",
    "with open(\"./tree.dot\") as f:\n",
    "    dot_graph = f.read()\n",
    "dot = graphviz.Source(dot_graph)\n",
    "dot.format = 'png'\n",
    "dot.render(filename='tree', directory='./', cleanup=True)\n",
    "#\n",
    "#'''\n",
    "import webbrowser\n",
    "webbrowser.open('tree.png')"
   ]
  },
  {
   "cell_type": "code",
   "execution_count": null,
   "metadata": {},
   "outputs": [],
   "source": []
  }
 ],
 "metadata": {
  "kernelspec": {
   "display_name": "Python 3",
   "language": "python",
   "name": "python3"
  },
  "language_info": {
   "codemirror_mode": {
    "name": "ipython",
    "version": 3
   },
   "file_extension": ".py",
   "mimetype": "text/x-python",
   "name": "python",
   "nbconvert_exporter": "python",
   "pygments_lexer": "ipython3",
   "version": "3.7.3"
  }
 },
 "nbformat": 4,
 "nbformat_minor": 2
}
